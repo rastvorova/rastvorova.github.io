{
 "cells": [
  {
   "cell_type": "markdown",
   "metadata": {},
   "source": [
    "1. Оцените возможности Sculpting, в <b>Wizard -> Demo -> Sculpting</b>."
   ]
  },
  {
   "cell_type": "markdown",
   "metadata": {},
   "source": [
    "        before demo\n",
    "!['before demo'](demo_before.png)\n",
    "\n",
    "\n",
    "        after demo\n",
    "!['after demo'](demo_after.png)"
   ]
  },
  {
   "cell_type": "markdown",
   "metadata": {},
   "source": [
    "    Поработайте в PyMOL с записью 1LMP банка PDB.\n",
    "    \n",
    "2. Используюя <i>select within</i> найдите водородные связи которыми белок связывает лиганд.\n",
    "\n",
    "    Команды для скрипта, использованные в PyMOL."
   ]
  },
  {
   "cell_type": "markdown",
   "metadata": {},
   "source": [
    "fetch 1lmp\n",
    "extract water, resn HOH\n",
    "delete water\n",
    "select ligand, resn NAG+NDG\n",
    "util.cbaw\n",
    "select prot, not ligand\n",
    "color lightpink, prot\n",
    "set dash_width , 1\n",
    "select cont, byres prot within 3.5 of ligand\n",
    "show lines, cont\n",
    "color lightblue, cont\n",
    "distance hbond, cont, ligand , 3.5 , 2\n",
    "set dash_color, yellow\n",
    "zoom cont"
   ]
  },
  {
   "cell_type": "markdown",
   "metadata": {},
   "source": [
    "        1LMP and ligand\n",
    "!['1LMP and ligand'](1LMP.png)\n",
    "\n",
    "        1LMP and ligand whith bonds\n",
    "!['1LMP and ligand whith bonds'](1LMP_ligand.png)\n",
    "\n",
    "        1LMP and ligand whith bonds closer\n",
    "!['1LMP and ligand whith bonds closer'](1LMP_ligand_close.png)"
   ]
  },
  {
   "cell_type": "markdown",
   "metadata": {},
   "source": [
    "3. Средствами Tcl/Tk интерфейса <b>Wizard->Mutagenesis</b> проведите мутацию в белке, которая по вашему мнению должна привести к потере связывания с лигандом.\n",
    "\n",
    "Точно сложно сказать, какая мутация точно приведет к потере связывания с лигандом. Но я выбрала ASP под номером 101 и заменила его на TRP, хотя не знаю, действительно ли такая замена приведет к потеря связи с лигандом. Замена производилась непосредственно в программе, без кода. Белок сохранён как <b>1lmp_mut.pdb</b>.\n",
    "\n",
    "4. Используя команды <i>mset, mview, super, translate</i> создайте анимационный ролик mpeg где происходит совмещение белков и показывается место мутации.\n",
    "\n",
    "Скрипт для создания анимации."
   ]
  },
  {
   "cell_type": "raw",
   "metadata": {},
   "source": [
    "fetch 1lmp, prot\n",
    "load 1lmp_mut.pdb, mutate\n",
    "\n",
    "color lightpink, prot\n",
    "color lightblue, mutate\n",
    "\n",
    "color grey90, resn NAG+NDG\n",
    "\n",
    "show sticks, resi 101\n",
    "color lightmagenta, resi 101 and prot\n",
    "color purpleblue, resi 101 and mutate\n",
    "label prot & n. CA and i. 101, resn, resi\n",
    "label mutate & n. CA and i. 101, resn, resi\n",
    "\n",
    "hide nonbonded\n",
    "hide dashes\n",
    "\n",
    "zoom all\n",
    "mset 1 x150\n",
    "\n",
    "frame 1\n",
    "translate [-20, 0, 0], object=prot\n",
    "translate [20, 0, 0], object=mutate\n",
    "mview store\n",
    "\n",
    "frame 70\n",
    "translate [20, 0, 0], object=prot\n",
    "translate [-20, 0, 0], object=mutate\n",
    "mview store\n",
    "\n",
    "frame 150\n",
    "zoom  i. 101\n",
    "mview store, object=prot\n",
    "mview store, object=mutate\n",
    "mview store\n",
    "mview reinterpolate\n",
    "mplay"
   ]
  },
  {
   "cell_type": "markdown",
   "metadata": {},
   "source": [
    "![SegmentLocal](Rastvorova_task2_movie.gif \"segment\")"
   ]
  },
  {
   "cell_type": "markdown",
   "metadata": {},
   "source": [
    "5. Приседените флуорусцентную метку TAMRA к белку через сложноэфирную связь. Используйте команды <i>fuse и torsion</i>.\n",
    "\n",
    "Сначала посмотрим на белок и найдём аминокислоты, к которым может присоединиться Tamra через эфирную связь. Такие аминокислоты должны содержать -OH группу, так как Tamra имеет карбоксильную. Найдём все серины и выберем тот, который расположен на поврхности. Я выбрала серин под номером 122."
   ]
  },
  {
   "cell_type": "raw",
   "metadata": {},
   "source": [
    "fetch 1lmp\n",
    "extract water, resn HOH\n",
    "delete water\n",
    "show sticks\n",
    "hide cartoon\n",
    "color white\n",
    "color pink, resn SER\n",
    "color blue, (resn SER and name OG)\n",
    "zoom resi 122"
   ]
  },
  {
   "cell_type": "markdown",
   "metadata": {},
   "source": [
    "![122](122.png)"
   ]
  },
  {
   "cell_type": "markdown",
   "metadata": {},
   "source": [
    "Теперь посмотрим на флуорисцентную метку Tamra. И удалим группу -OH, которая будет участвовать в реакции этерификации. У белка атомы водорода не указаны, поэтому у него ничего не удаляем."
   ]
  },
  {
   "cell_type": "raw",
   "metadata": {},
   "source": [
    "load Tamra.sdf\n",
    "zoom tamra\n",
    "color red, tamra\n",
    "label tamra, name\n",
    "remove (id 2, id 54)\n",
    "select AG, Tamra and id 29\n",
    "color wheat, AG"
   ]
  },
  {
   "cell_type": "markdown",
   "metadata": {},
   "source": [
    "![tamra](tamra.png)"
   ]
  },
  {
   "cell_type": "markdown",
   "metadata": {},
   "source": [
    "Выберем атомы, которые будут участвовать в реакции и соеденим их.\n",
    "С помощью <i>torsion</i> будем изменять градус, чтобы подобрать наиболее оптимальное положение метки."
   ]
  },
  {
   "cell_type": "raw",
   "metadata": {},
   "source": [
    "select 122, resi 122\n",
    "select OG122, /1lmp//A/SER`122/OG\n",
    "color yellow, OG122\n",
    "\n",
    "fuse AG, OG122\n",
    "zoom pkbond"
   ]
  },
  {
   "cell_type": "markdown",
   "metadata": {},
   "source": [
    "![tamra_n_1lmp_1](tamra_n_1lmp_1.png)\n",
    "![tamra_n_1lmp_2](tamra_n_1lmp_2.png)"
   ]
  },
  {
   "cell_type": "markdown",
   "metadata": {},
   "source": [
    "6. Напишите скрипт для построения поли-аланиновой альфа-спирали длинной 100 аминкислот.\n",
    "\n",
    "Я выбрала триптофан."
   ]
  },
  {
   "cell_type": "raw",
   "metadata": {},
   "source": [
    "fragment trp\n",
    "util.cbao\n",
    "python\n",
    "for x in range(2, 101):\n",
    "\tcmd.edit(\"/trp///\"+ str(x) +\"/c\")\n",
    "\teditor.attach_amino_acid(\"pk1\", \"trp\")\n",
    "for x in range(2, 101):\n",
    "\tcmd.edit(\"/trp///\" + str(x) + \"/N\", \"/trp///\" + str(x) + \"/CA\")\n",
    "\tcmd.torsion (-61) \n",
    "\tcmd.edit(\"/trp///\" + str(x) + \"/CA\", \"/trp///\" + str(x+1) + \"/C\")\n",
    "\tcmd.torsion (-42)\n",
    "python end\n",
    "zoom"
   ]
  },
  {
   "cell_type": "markdown",
   "metadata": {},
   "source": [
    "![trp1](trp.png)\n",
    "![trp2](trp2.png)"
   ]
  }
 ],
 "metadata": {
  "kernelspec": {
   "display_name": "Python 3",
   "language": "python",
   "name": "python3"
  },
  "language_info": {
   "codemirror_mode": {
    "name": "ipython",
    "version": 3
   },
   "file_extension": ".py",
   "mimetype": "text/x-python",
   "name": "python",
   "nbconvert_exporter": "python",
   "pygments_lexer": "ipython3",
   "version": "3.8.0"
  }
 },
 "nbformat": 4,
 "nbformat_minor": 4
}
