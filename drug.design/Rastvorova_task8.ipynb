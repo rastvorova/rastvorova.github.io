{
 "cells": [
  {
   "cell_type": "markdown",
   "metadata": {},
   "source": [
    "### Гомологичное моделирование комплекса белка с лигандом"
   ]
  },
  {
   "cell_type": "code",
   "execution_count": 1,
   "metadata": {},
   "outputs": [],
   "source": [
    "import sys \n",
    "import modeller \n",
    "import _modeller\n",
    "import modeller.automodel \n",
    "import nglview\n",
    "import ipywidgets"
   ]
  },
  {
   "cell_type": "markdown",
   "metadata": {},
   "source": [
    "Запустим Modeller."
   ]
  },
  {
   "cell_type": "code",
   "execution_count": 2,
   "metadata": {},
   "outputs": [
    {
     "name": "stdout",
     "output_type": "stream",
     "text": [
      "\n",
      "                         MODELLER 9.19, 2017/07/19, r11078\n",
      "\n",
      "     PROTEIN STRUCTURE MODELLING BY SATISFACTION OF SPATIAL RESTRAINTS\n",
      "\n",
      "\n",
      "                     Copyright(c) 1989-2017 Andrej Sali\n",
      "                            All Rights Reserved\n",
      "\n",
      "                             Written by A. Sali\n",
      "                               with help from\n",
      "              B. Webb, M.S. Madhusudhan, M-Y. Shen, G.Q. Dong,\n",
      "          M.A. Marti-Renom, N. Eswar, F. Alber, M. Topf, B. Oliva,\n",
      "             A. Fiser, R. Sanchez, B. Yerkovich, A. Badretdinov,\n",
      "                     F. Melo, J.P. Overington, E. Feyfant\n",
      "                 University of California, San Francisco, USA\n",
      "                    Rockefeller University, New York, USA\n",
      "                      Harvard University, Cambridge, USA\n",
      "                   Imperial Cancer Research Fund, London, UK\n",
      "              Birkbeck College, University of London, London, UK\n",
      "\n",
      "\n",
      "Kind, OS, HostName, Kernel, Processor: 4, Linux shadbox 3.2.0-126-generic x86_64\n",
      "Date and time of compilation         : 2017/07/19 14:40:43\n",
      "MODELLER executable type             : x86_64-intel8\n",
      "Job starting time (YY/MM/DD HH:MM:SS): 2020/12/25 09:02:28\n",
      "\n"
     ]
    }
   ],
   "source": [
    "env = modeller.environ()\n",
    "env.io.hetatm = True"
   ]
  },
  {
   "cell_type": "markdown",
   "metadata": {},
   "source": [
    "Скачаем белок-заготовку лизоцим радужной форели и последовательность рандомного белока из UniProtKB. Я взяла белок лисовидного поссума. "
   ]
  },
  {
   "cell_type": "code",
   "execution_count": 3,
   "metadata": {},
   "outputs": [],
   "source": [
    "! wget http://www.pdb.org/pdb/files/1lmp.pdb 2> /dev/null # чтобы не генерировать много текста\n",
    "! wget http://www.uniprot.org/uniprot/P51782.fasta 2> /dev/null"
   ]
  },
  {
   "cell_type": "markdown",
   "metadata": {},
   "source": [
    "Создадим объект выравнивание, добавим последовательность. Заодно добавим в выравнивание белок-заготовку."
   ]
  },
  {
   "cell_type": "code",
   "execution_count": 4,
   "metadata": {},
   "outputs": [
    {
     "name": "stdout",
     "output_type": "stream",
     "text": [
      "read_pd_459W> Residue type  NDG not recognized. 'automodel' model building\n",
      "              will treat this residue as a rigid body.\n",
      "              To use real parameters, add the residue type to ${LIB}/restyp.lib,\n",
      "              its topology to ${LIB}/top_*.lib, and suitable forcefield\n",
      "              parameters to ${LIB}/par.lib.\n",
      "read_pd_459W> Residue type  NAG not recognized. 'automodel' model building\n",
      "              will treat this residue as a rigid body.\n",
      "              To use real parameters, add the residue type to ${LIB}/restyp.lib,\n",
      "              its topology to ${LIB}/top_*.lib, and suitable forcefield\n",
      "              parameters to ${LIB}/par.lib.\n"
     ]
    }
   ],
   "source": [
    "alignm = modeller.alignment(env)\n",
    "\n",
    "alignm.append(file = 'P51782.fasta', align_codes = 'all', alignment_format = 'FASTA')\n",
    "alignm[0].code = 'no_ligand'\n",
    "\n",
    "mdl = modeller.model(env, file = '1lmp.pdb')\n",
    "alignm.append_model(mdl, align_codes = '1lmp', atom_files = '1lmp.pdb')"
   ]
  },
  {
   "cell_type": "markdown",
   "metadata": {},
   "source": [
    "Делаем выравнивание и сохраняем."
   ]
  },
  {
   "cell_type": "code",
   "execution_count": 5,
   "metadata": {},
   "outputs": [
    {
     "name": "stdout",
     "output_type": "stream",
     "text": [
      "\n",
      "SALIGN_____> adding the next group to the alignment; iteration    1\n"
     ]
    }
   ],
   "source": [
    "alignm.salign()\n",
    "alignm.write(file = 'no_ligand_alignment.ali', alignment_format = 'PIR')"
   ]
  },
  {
   "cell_type": "markdown",
   "metadata": {},
   "source": [
    "Построим модель."
   ]
  },
  {
   "cell_type": "code",
   "execution_count": 6,
   "metadata": {},
   "outputs": [
    {
     "name": "stdout",
     "output_type": "stream",
     "text": [
      "no_ligand 1lmp\n",
      "\n",
      "done!\n"
     ]
    }
   ],
   "source": [
    "s = alignm[0]\n",
    "pdb = alignm[1]\n",
    "\n",
    "print s.code, pdb.code\n",
    "print\n",
    "\n",
    "a = modeller.automodel.automodel(env, \n",
    "                                 alnfile = 'no_ligand_alignment.ali', \n",
    "                                 knowns = pdb.code, \n",
    "                                 sequence = s.code)\n",
    "a.name = 'mod' + s.code\n",
    "a.starting_model = 1\n",
    "a.ending_model = 2 # сделаем всего две модели\n",
    "\n",
    "orig_stdout = sys.stdout # чтобы уменьшить количество текста, будем писать в файл\n",
    "with open('output.txt', 'w') as output:\n",
    "    sys.stdout = output\n",
    "    a.make()\n",
    "sys.stdout = orig_stdout\n",
    "\n",
    "print 'done!'"
   ]
  },
  {
   "cell_type": "code",
   "execution_count": 7,
   "metadata": {},
   "outputs": [
    {
     "data": {
      "application/vnd.jupyter.widget-view+json": {
       "model_id": "df6aef1180814dcbbaecfd0c28f82fe5",
       "version_major": 2,
       "version_minor": 0
      },
      "text/html": [
       "<p>Failed to display Jupyter Widget of type <code>NGLWidget</code>.</p>\n",
       "<p>\n",
       "  If you're reading this message in Jupyter Notebook or JupyterLab, it may mean\n",
       "  that the widgets JavaScript is still loading. If this message persists, it\n",
       "  likely means that the widgets JavaScript library is either not installed or\n",
       "  not enabled. See the <a href=\"https://ipywidgets.readthedocs.io/en/stable/user_install.html\">Jupyter\n",
       "  Widgets Documentation</a> for setup instructions.\n",
       "</p>\n",
       "<p>\n",
       "  If you're reading this message in another notebook frontend (for example, a static\n",
       "  rendering on GitHub or <a href=\"https://nbviewer.jupyter.org/\">NBViewer</a>),\n",
       "  it may mean that your frontend doesn't currently support widgets.\n",
       "</p>\n"
      ],
      "text/plain": [
       "NGLWidget()"
      ]
     },
     "metadata": {},
     "output_type": "display_data"
    }
   ],
   "source": [
    "no_ligand = nglview.show_structure_file('no_ligand.B99990001.pdb')\n",
    "no_ligand"
   ]
  },
  {
   "cell_type": "markdown",
   "metadata": {},
   "source": [
    "А лиганда нет."
   ]
  },
  {
   "cell_type": "code",
   "execution_count": 8,
   "metadata": {},
   "outputs": [
    {
     "data": {
      "application/vnd.jupyter.widget-view+json": {
       "model_id": "39abc6efb4394ad889d1079e9b4a0074",
       "version_major": 2,
       "version_minor": 0
      },
      "text/html": [
       "<p>Failed to display Jupyter Widget of type <code>NGLWidget</code>.</p>\n",
       "<p>\n",
       "  If you're reading this message in Jupyter Notebook or JupyterLab, it may mean\n",
       "  that the widgets JavaScript is still loading. If this message persists, it\n",
       "  likely means that the widgets JavaScript library is either not installed or\n",
       "  not enabled. See the <a href=\"https://ipywidgets.readthedocs.io/en/stable/user_install.html\">Jupyter\n",
       "  Widgets Documentation</a> for setup instructions.\n",
       "</p>\n",
       "<p>\n",
       "  If you're reading this message in another notebook frontend (for example, a static\n",
       "  rendering on GitHub or <a href=\"https://nbviewer.jupyter.org/\">NBViewer</a>),\n",
       "  it may mean that your frontend doesn't currently support widgets.\n",
       "</p>\n"
      ],
      "text/plain": [
       "NGLWidget()"
      ]
     },
     "metadata": {},
     "output_type": "display_data"
    }
   ],
   "source": [
    "lmp = nglview.show_structure_file('1lmp.pdb')\n",
    "lmp"
   ]
  },
  {
   "cell_type": "markdown",
   "metadata": {},
   "source": [
    "А у форели есть. Последние три остатка."
   ]
  },
  {
   "cell_type": "code",
   "execution_count": 9,
   "metadata": {},
   "outputs": [
    {
     "data": {
      "text/plain": [
       "[Residue 1:B (type NDG), Residue 2:B (type NAG), Residue 3:B (type NAG)]"
      ]
     },
     "execution_count": 9,
     "metadata": {},
     "output_type": "execute_result"
    }
   ],
   "source": [
    "alignm[1].residues[-3:]"
   ]
  },
  {
   "cell_type": "markdown",
   "metadata": {},
   "source": [
    "Сделаем новую последовательность. Для обозначения лиганда достаточно добавить три точки в конце."
   ]
  },
  {
   "cell_type": "code",
   "execution_count": 10,
   "metadata": {},
   "outputs": [
    {
     "name": "stdout",
     "output_type": "stream",
     "text": [
      "MKVLLLLGFIFCSMAAHGKRMERCEFARRIKQLHLDGYHQISLANWVCLAQWESGFDTKATNYNPGDQSTDYGILQINSHYWCDDGKTPHAANECKVRCSELQEDDLVKAVNCAKKIVDQQGIRAWVAWRNKCEGKDLSKYLEGCHL...\n"
     ]
    }
   ],
   "source": [
    "sequence = ''.join([i.code for i in alignm[0].residues]) + '...'\n",
    "\n",
    "alignm.append_sequence(sequence)\n",
    "alignm[2].code = 'with_ligand'\n",
    "\n",
    "print sequence"
   ]
  },
  {
   "cell_type": "markdown",
   "metadata": {},
   "source": [
    "Делаем новое выравнивание и запускаем модель с новой последовательностью."
   ]
  },
  {
   "cell_type": "code",
   "execution_count": 11,
   "metadata": {},
   "outputs": [
    {
     "name": "stdout",
     "output_type": "stream",
     "text": [
      "\n",
      "SALIGN_____> adding the next group to the alignment; iteration    1\n",
      "\n",
      "SALIGN_____> adding the next group to the alignment; iteration    2\n",
      "with_ligand 1lmp\n",
      "\n",
      "automodel__W> Topology and/or parameter libraries already in memory. These will\n",
      "                be used instead of the automodel defaults. If this is not what you\n",
      "                want, clear them before creating the automodel object with\n",
      "                env.libs.topology.clear() and env.libs.parameters.clear()\n",
      "done!\n"
     ]
    }
   ],
   "source": [
    "alignm.salign()\n",
    "alignm.write(file = 'with_ligand_alignment.ali', alignment_format = 'PIR')\n",
    "\n",
    "s = alignm[2] # заменяем исходную последовательность на новую\n",
    "pdb = alignm[1] # заготовку оставляем\n",
    "\n",
    "print s.code, pdb.code\n",
    "print\n",
    "\n",
    "a = modeller.automodel.automodel(env, \n",
    "                                 alnfile = 'with_ligand_alignment.ali', \n",
    "                                 knowns = pdb.code, \n",
    "                                 sequence = s.code )\n",
    "a.name = 'mod' + s.code\n",
    "a.starting_model = 1\n",
    "a.ending_model = 2\n",
    "\n",
    "orig_stdout = sys.stdout \n",
    "with open('output.txt', 'w') as output:\n",
    "    sys.stdout = output\n",
    "    a.make()\n",
    "sys.stdout = orig_stdout\n",
    "\n",
    "print 'done!'"
   ]
  },
  {
   "cell_type": "code",
   "execution_count": 12,
   "metadata": {},
   "outputs": [
    {
     "data": {
      "application/vnd.jupyter.widget-view+json": {
       "model_id": "ff41b99192d443d7b54d48e964542e1e",
       "version_major": 2,
       "version_minor": 0
      },
      "text/html": [
       "<p>Failed to display Jupyter Widget of type <code>NGLWidget</code>.</p>\n",
       "<p>\n",
       "  If you're reading this message in Jupyter Notebook or JupyterLab, it may mean\n",
       "  that the widgets JavaScript is still loading. If this message persists, it\n",
       "  likely means that the widgets JavaScript library is either not installed or\n",
       "  not enabled. See the <a href=\"https://ipywidgets.readthedocs.io/en/stable/user_install.html\">Jupyter\n",
       "  Widgets Documentation</a> for setup instructions.\n",
       "</p>\n",
       "<p>\n",
       "  If you're reading this message in another notebook frontend (for example, a static\n",
       "  rendering on GitHub or <a href=\"https://nbviewer.jupyter.org/\">NBViewer</a>),\n",
       "  it may mean that your frontend doesn't currently support widgets.\n",
       "</p>\n"
      ],
      "text/plain": [
       "NGLWidget()"
      ]
     },
     "metadata": {},
     "output_type": "display_data"
    }
   ],
   "source": [
    "with_ligand = nglview.show_structure_file('with_ligand.B99990001.pdb')\n",
    "with_ligand"
   ]
  },
  {
   "cell_type": "markdown",
   "metadata": {},
   "source": [
    "Теперь лиганд на месте."
   ]
  }
 ],
 "metadata": {
  "kernelspec": {
   "display_name": "Python 2.7",
   "language": "python",
   "name": "python2"
  },
  "language_info": {
   "codemirror_mode": {
    "name": "ipython",
    "version": 2
   },
   "file_extension": ".py",
   "mimetype": "text/x-python",
   "name": "python",
   "nbconvert_exporter": "python",
   "pygments_lexer": "ipython2",
   "version": "2.7.14"
  }
 },
 "nbformat": 4,
 "nbformat_minor": 4
}
