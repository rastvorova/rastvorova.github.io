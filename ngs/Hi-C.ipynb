{
 "cells": [
  {
   "cell_type": "markdown",
   "metadata": {},
   "source": [
    "№1. Для усреднения значений и построения дендрограммы с использую jupyter notebook."
   ]
  },
  {
   "cell_type": "code",
   "execution_count": 1,
   "metadata": {},
   "outputs": [],
   "source": [
    "import pandas as pd\n",
    "import numpy as np\n",
    "from scipy.cluster import hierarchy\n",
    "import matplotlib.pyplot as plt"
   ]
  },
  {
   "cell_type": "code",
   "execution_count": 2,
   "metadata": {},
   "outputs": [
    {
     "name": "stdout",
     "output_type": "stream",
     "text": [
      "[0.85045980851829, 0.8368286767714815, 0.5409096974046415, 0.5684901964584212, 0.5727378813725648, 0.5404668147418871]\n"
     ]
    }
   ],
   "source": [
    "scc_list = ('outputSCC_lib.txt', \n",
    "            'outputSCC_Kc167.txt', \n",
    "            'outputSCC_lib_Kc_1.txt', \n",
    "            'outputSCC_lib_Kc_2.txt', \n",
    "            'outputSCC_lib_Kc_3.txt', \n",
    "            'outputSCC_lib_Kc_4.txt')\n",
    "scc_dist = []\n",
    "\n",
    "for i in range(len(scc_list)):\n",
    "    with open(scc_list[i], 'r') as f:\n",
    "        lib = f.readlines()\n",
    "    scc = [float(x.strip()) for x in lib[2:-1]]\n",
    "    scc = [i for x, i in enumerate(scc) if x in [x - 1 for x in [1, 3, 5, 7, 9, 12]]]\n",
    "    scc_dist.append(np.mean(scc))\n",
    "\n",
    "print(scc_dist)"
   ]
  },
  {
   "cell_type": "code",
   "execution_count": 3,
   "metadata": {},
   "outputs": [
    {
     "data": {
      "image/png": "[encoded data removed]",
      "text/plain": [
       "<Figure size 432x288 with 1 Axes>"
      ]
     },
     "metadata": {
      "needs_background": "light"
     },
     "output_type": "display_data"
    }
   ],
   "source": [
    "names = ('lib1.dm3', 'lib2.dm3', 'Kc167_rep1', 'Kc167_rep2')\n",
    "dist_matrix = np.array([[1, scc_dist[0], scc_dist[4], scc_dist[2]],\n",
    "                        [scc_dist[0], 1,scc_dist[3], scc_dist[5]],\n",
    "                        [scc_dist[4], scc_dist[3], 1, scc_dist[1]],\n",
    "                        [scc_dist[2], scc_dist[5], scc_dist[1], 1]])\n",
    "dm = hierarchy.linkage(dist_matrix, 'single')\n",
    "dn = hierarchy.dendrogram(dm)\n",
    "plt.xlabel(\"            \".join(names)) # пришлось сделать так, подписи не хотели рисоваться красиво\n",
    "plt.show()"
   ]
  },
  {
   "cell_type": "markdown",
   "metadata": {},
   "source": [
    "Чего и следовало ожидать, реплики нервной и эмбриональной ткани класторизовались соответствуюшим образом - нервные вместе и эмбриональные тоже."
   ]
  },
  {
   "cell_type": "markdown",
   "metadata": {},
   "source": [
    "№2. Посмотрим на распределение размеров ТАДов.\n",
    "\n",
    "При стандартных параметрах."
   ]
  },
  {
   "cell_type": "code",
   "execution_count": 4,
   "metadata": {
    "scrolled": true
   },
   "outputs": [
    {
     "name": "stdout",
     "output_type": "stream",
     "text": [
      "mean length of TADs 224575\n"
     ]
    },
    {
     "data": {
      "image/png": "[encoded data removed]",
      "text/plain": [
       "<Figure size 432x288 with 1 Axes>"
      ]
     },
     "metadata": {
      "needs_background": "light"
     },
     "output_type": "display_data"
    }
   ],
   "source": [
    "tads_default = pd.read_csv('tads/TADs_domains.bed', sep='\\t', header=None)\n",
    "tads_default_len = [x - y for x, y in zip(tads_default[2].tolist(), tads_default[1].tolist())]\n",
    "print('mean length of TADs', np.mean(tads_default_len, dtype=int))\n",
    "plt.hist(tads_default_len, bins=25, color='pink')\n",
    "plt.show()"
   ]
  },
  {
   "cell_type": "markdown",
   "metadata": {},
   "source": [
    "Далее варианты при изменении параметров minDepth (30k, 100k, 200k) и –maxDepth (50k, 100k, 250k, 500k, 1M)."
   ]
  },
  {
   "cell_type": "code",
   "execution_count": 5,
   "metadata": {},
   "outputs": [],
   "source": [
    "depth = ('tads/TAD_30k_60k_domains.bed',\n",
    "        'tads/TAD_30k_100k_domains.bed',\n",
    "        'tads/TAD_30k_150k_domains.bed',\n",
    "        'tads/TAD_30k_250k_domains.bed',\n",
    "        'tads/TAD_30k_500k_domains.bed',\n",
    "        'tads/TAD_30k_1M_domains.bed',\n",
    "        'tads/TAD_100k_1M_domains.bed',\n",
    "        'tads/TAD_200k_1M_domains.bed')"
   ]
  },
  {
   "cell_type": "code",
   "execution_count": 6,
   "metadata": {},
   "outputs": [],
   "source": [
    "def tads_length(file_name):\n",
    "    tads = pd.read_csv(file_name, sep='\\t', header=None)\n",
    "    \n",
    "    tads_params = file_name.split('_')\n",
    "    \n",
    "    tads_len = [x - y for x, y in zip(tads[2].tolist(), tads[1].tolist())]\n",
    "    \n",
    "    print('-minDepth', tads_params[1], '-maxDepth', tads_params[2])\n",
    "    print('mean length of TADs', np.mean(tads_len, dtype=int))\n",
    "        \n",
    "    plt.hist(tads_len, bins=25, color='pink')\n",
    "    plt.show()"
   ]
  },
  {
   "cell_type": "code",
   "execution_count": 7,
   "metadata": {
    "scrolled": false
   },
   "outputs": [
    {
     "name": "stdout",
     "output_type": "stream",
     "text": [
      "-minDepth 30k -maxDepth 60k\n",
      "mean length of TADs 146553\n"
     ]
    },
    {
     "data": {
      "image/png": "[encoded data removed]",
      "text/plain": [
       "<Figure size 432x288 with 1 Axes>"
      ]
     },
     "metadata": {
      "needs_background": "light"
     },
     "output_type": "display_data"
    },
    {
     "name": "stdout",
     "output_type": "stream",
     "text": [
      "-minDepth 30k -maxDepth 100k\n",
      "mean length of TADs 157921\n"
     ]
    },
    {
     "data": {
      "image/png": "[encoded data removed]",
      "text/plain": [
       "<Figure size 432x288 with 1 Axes>"
      ]
     },
     "metadata": {
      "needs_background": "light"
     },
     "output_type": "display_data"
    },
    {
     "name": "stdout",
     "output_type": "stream",
     "text": [
      "-minDepth 30k -maxDepth 150k\n",
      "mean length of TADs 164194\n"
     ]
    },
    {
     "data": {
      "image/png": "[encoded data removed]",
      "text/plain": [
       "<Figure size 432x288 with 1 Axes>"
      ]
     },
     "metadata": {
      "needs_background": "light"
     },
     "output_type": "display_data"
    },
    {
     "name": "stdout",
     "output_type": "stream",
     "text": [
      "-minDepth 30k -maxDepth 250k\n",
      "mean length of TADs 168478\n"
     ]
    },
    {
     "data": {
      "image/png": "[encoded data removed]",
      "text/plain": [
       "<Figure size 432x288 with 1 Axes>"
      ]
     },
     "metadata": {
      "needs_background": "light"
     },
     "output_type": "display_data"
    },
    {
     "name": "stdout",
     "output_type": "stream",
     "text": [
      "-minDepth 30k -maxDepth 500k\n",
      "mean length of TADs 178586\n"
     ]
    },
    {
     "data": {
      "image/png": "[encoded data removed]",
      "text/plain": [
       "<Figure size 432x288 with 1 Axes>"
      ]
     },
     "metadata": {
      "needs_background": "light"
     },
     "output_type": "display_data"
    },
    {
     "name": "stdout",
     "output_type": "stream",
     "text": [
      "-minDepth 30k -maxDepth 1M\n",
      "mean length of TADs 182032\n"
     ]
    },
    {
     "data": {
      "image/png": "[encoded data removed]",
      "text/plain": [
       "<Figure size 432x288 with 1 Axes>"
      ]
     },
     "metadata": {
      "needs_background": "light"
     },
     "output_type": "display_data"
    },
    {
     "name": "stdout",
     "output_type": "stream",
     "text": [
      "-minDepth 100k -maxDepth 1M\n",
      "mean length of TADs 238020\n"
     ]
    },
    {
     "data": {
      "image/png": "[encoded data removed]",
      "text/plain": [
       "<Figure size 432x288 with 1 Axes>"
      ]
     },
     "metadata": {
      "needs_background": "light"
     },
     "output_type": "display_data"
    },
    {
     "name": "stdout",
     "output_type": "stream",
     "text": [
      "-minDepth 200k -maxDepth 1M\n",
      "mean length of TADs 325071\n"
     ]
    },
    {
     "data": {
      "image/png": "[encoded data removed]",
      "text/plain": [
       "<Figure size 432x288 with 1 Axes>"
      ]
     },
     "metadata": {
      "needs_background": "light"
     },
     "output_type": "display_data"
    }
   ],
   "source": [
    "for i in depth:\n",
    "    tads_length(i)"
   ]
  },
  {
   "cell_type": "markdown",
   "metadata": {},
   "source": [
    "При изменении параметров изменяется размер ТАДов."
   ]
  },
  {
   "cell_type": "markdown",
   "metadata": {},
   "source": [
    "№4 Посчитаем количество генов, попадающих на границы ТАДов и в сами ТАДы."
   ]
  },
  {
   "cell_type": "code",
   "execution_count": 8,
   "metadata": {},
   "outputs": [
    {
     "data": {
      "text/html": [
       "<div>\n",
       "<style scoped>\n",
       "    .dataframe tbody tr th:only-of-type {\n",
       "        vertical-align: middle;\n",
       "    }\n",
       "\n",
       "    .dataframe tbody tr th {\n",
       "        vertical-align: top;\n",
       "    }\n",
       "\n",
       "    .dataframe thead th {\n",
       "        text-align: right;\n",
       "    }\n",
       "</style>\n",
       "<table border=\"1\" class=\"dataframe\">\n",
       "  <thead>\n",
       "    <tr style=\"text-align: right;\">\n",
       "      <th></th>\n",
       "      <th>0</th>\n",
       "      <th>1</th>\n",
       "      <th>2</th>\n",
       "      <th>3</th>\n",
       "      <th>4</th>\n",
       "      <th>5</th>\n",
       "    </tr>\n",
       "  </thead>\n",
       "  <tbody>\n",
       "    <tr>\n",
       "      <th>0</th>\n",
       "      <td>chr2L</td>\n",
       "      <td>105000</td>\n",
       "      <td>115000</td>\n",
       "      <td>B00011</td>\n",
       "      <td>-0.531479</td>\n",
       "      <td>.</td>\n",
       "    </tr>\n",
       "    <tr>\n",
       "      <th>1</th>\n",
       "      <td>chr2L</td>\n",
       "      <td>245000</td>\n",
       "      <td>255000</td>\n",
       "      <td>B00025</td>\n",
       "      <td>-0.398021</td>\n",
       "      <td>.</td>\n",
       "    </tr>\n",
       "    <tr>\n",
       "      <th>2</th>\n",
       "      <td>chr2L</td>\n",
       "      <td>475000</td>\n",
       "      <td>485000</td>\n",
       "      <td>B00048</td>\n",
       "      <td>-0.615428</td>\n",
       "      <td>.</td>\n",
       "    </tr>\n",
       "    <tr>\n",
       "      <th>3</th>\n",
       "      <td>chr2L</td>\n",
       "      <td>545000</td>\n",
       "      <td>555000</td>\n",
       "      <td>B00055</td>\n",
       "      <td>-0.698989</td>\n",
       "      <td>.</td>\n",
       "    </tr>\n",
       "    <tr>\n",
       "      <th>4</th>\n",
       "      <td>chr2L</td>\n",
       "      <td>845000</td>\n",
       "      <td>855000</td>\n",
       "      <td>B00085</td>\n",
       "      <td>-0.606603</td>\n",
       "      <td>.</td>\n",
       "    </tr>\n",
       "  </tbody>\n",
       "</table>\n",
       "</div>"
      ],
      "text/plain": [
       "       0       1       2       3         4  5\n",
       "0  chr2L  105000  115000  B00011 -0.531479  .\n",
       "1  chr2L  245000  255000  B00025 -0.398021  .\n",
       "2  chr2L  475000  485000  B00048 -0.615428  .\n",
       "3  chr2L  545000  555000  B00055 -0.698989  .\n",
       "4  chr2L  845000  855000  B00085 -0.606603  ."
      ]
     },
     "execution_count": 8,
     "metadata": {},
     "output_type": "execute_result"
    }
   ],
   "source": [
    "TADs_boundaries = pd.read_csv('TADs_boundaries.bed', sep='\\t', header=None)\n",
    "TADs_boundaries.sort_values(by=1)\n",
    "TADs_boundaries.head()"
   ]
  },
  {
   "cell_type": "code",
   "execution_count": 9,
   "metadata": {},
   "outputs": [
    {
     "data": {
      "text/html": [
       "<div>\n",
       "<style scoped>\n",
       "    .dataframe tbody tr th:only-of-type {\n",
       "        vertical-align: middle;\n",
       "    }\n",
       "\n",
       "    .dataframe tbody tr th {\n",
       "        vertical-align: top;\n",
       "    }\n",
       "\n",
       "    .dataframe thead th {\n",
       "        text-align: right;\n",
       "    }\n",
       "</style>\n",
       "<table border=\"1\" class=\"dataframe\">\n",
       "  <thead>\n",
       "    <tr style=\"text-align: right;\">\n",
       "      <th></th>\n",
       "      <th>Gene stable ID</th>\n",
       "      <th>Gene start (bp)</th>\n",
       "      <th>Gene end (bp)</th>\n",
       "      <th>Strand</th>\n",
       "    </tr>\n",
       "  </thead>\n",
       "  <tbody>\n",
       "    <tr>\n",
       "      <th>0</th>\n",
       "      <td>FBgn0031208</td>\n",
       "      <td>7529</td>\n",
       "      <td>9484</td>\n",
       "      <td>1</td>\n",
       "    </tr>\n",
       "    <tr>\n",
       "      <th>1</th>\n",
       "      <td>FBgn0002121</td>\n",
       "      <td>9839</td>\n",
       "      <td>21376</td>\n",
       "      <td>-1</td>\n",
       "    </tr>\n",
       "    <tr>\n",
       "      <th>2</th>\n",
       "      <td>FBgn0031209</td>\n",
       "      <td>21823</td>\n",
       "      <td>25155</td>\n",
       "      <td>-1</td>\n",
       "    </tr>\n",
       "    <tr>\n",
       "      <th>3</th>\n",
       "      <td>FBgn0263584</td>\n",
       "      <td>21952</td>\n",
       "      <td>24237</td>\n",
       "      <td>1</td>\n",
       "    </tr>\n",
       "    <tr>\n",
       "      <th>4</th>\n",
       "      <td>FBgn0051973</td>\n",
       "      <td>25402</td>\n",
       "      <td>65404</td>\n",
       "      <td>-1</td>\n",
       "    </tr>\n",
       "  </tbody>\n",
       "</table>\n",
       "</div>"
      ],
      "text/plain": [
       "  Gene stable ID  Gene start (bp)  Gene end (bp)  Strand\n",
       "0    FBgn0031208             7529           9484       1\n",
       "1    FBgn0002121             9839          21376      -1\n",
       "2    FBgn0031209            21823          25155      -1\n",
       "3    FBgn0263584            21952          24237       1\n",
       "4    FBgn0051973            25402          65404      -1"
      ]
     },
     "execution_count": 9,
     "metadata": {},
     "output_type": "execute_result"
    }
   ],
   "source": [
    "drosophila = pd.read_csv('drosophila.txt')\n",
    "drosophila.sort_values(by='Gene start (bp)')\n",
    "drosophila.head()"
   ]
  },
  {
   "cell_type": "code",
   "execution_count": 10,
   "metadata": {},
   "outputs": [
    {
     "name": "stdout",
     "output_type": "stream",
     "text": [
      "in boundaries: 447\n",
      "in TADs: 246\n"
     ]
    }
   ],
   "source": [
    "gene_start = drosophila['Gene start (bp)'].tolist()\n",
    "gene_end = drosophila['Gene end (bp)'].tolist()\n",
    "\n",
    "i = 0 # итератор генов\n",
    "b = 0 # попадает на границу\n",
    "x = 0 # подает внутрь ТАДа\n",
    "for n in range(len(TADs_boundaries)):\n",
    "    while gene_end[i] < TADs_boundaries[1][n]:\n",
    "        i += 1\n",
    "    if TADs_boundaries[1][n] < gene_start[i] < TADs_boundaries[2][n] or \\\n",
    "    TADs_boundaries[1][n] < gene_end[i] < TADs_boundaries[2][n]:\n",
    "        while TADs_boundaries[1][n] < gene_start[i] < TADs_boundaries[2][n] or \\\n",
    "        TADs_boundaries[1][n] < gene_end[i] < TADs_boundaries[2][n]:\n",
    "            b += 1\n",
    "            i += 1\n",
    "    elif TADs_boundaries[2][n] < gene_start[i] < TADs_boundaries[1][n+1] or \\\n",
    "    TADs_boundaries[2][n] < gene_end[i] < TADs_boundaries[1][n+1]:\n",
    "        if n < len(TADs_boundaries):\n",
    "            while TADs_boundaries[2][n] < gene_start[i] < TADs_boundaries[1][n+1] or \\\n",
    "            TADs_boundaries[2][n] < gene_end[i] < TADs_boundaries[1][n+1]:\n",
    "                x += 1\n",
    "                i += 1\n",
    "    elif TADs_boundaries[2][n] < gene_start[i]:\n",
    "        while n < len(TADs_boundaries):\n",
    "            if TADs_boundaries[2][n] > gene_start[i]:\n",
    "                break\n",
    "            n += 1\n",
    "            continue\n",
    "        if n == len(TADs_boundaries):     \n",
    "            break\n",
    "\n",
    "print('in boundaries:', b)\n",
    "print('in TADs:', x)"
   ]
  },
  {
   "cell_type": "markdown",
   "metadata": {},
   "source": [
    "На границы ТАДов попадает больше генов, чем на сами ТАДы."
   ]
  },
  {
   "cell_type": "markdown",
   "metadata": {},
   "source": [
    "Теперь сделаем тоже самое для максимально экспрессированных генов."
   ]
  },
  {
   "cell_type": "code",
   "execution_count": 11,
   "metadata": {},
   "outputs": [
    {
     "data": {
      "text/html": [
       "<div>\n",
       "<style scoped>\n",
       "    .dataframe tbody tr th:only-of-type {\n",
       "        vertical-align: middle;\n",
       "    }\n",
       "\n",
       "    .dataframe tbody tr th {\n",
       "        vertical-align: top;\n",
       "    }\n",
       "\n",
       "    .dataframe thead th {\n",
       "        text-align: right;\n",
       "    }\n",
       "</style>\n",
       "<table border=\"1\" class=\"dataframe\">\n",
       "  <thead>\n",
       "    <tr style=\"text-align: right;\">\n",
       "      <th></th>\n",
       "      <th>Gene_ID</th>\n",
       "      <th>BG3_FPKM</th>\n",
       "    </tr>\n",
       "  </thead>\n",
       "  <tbody>\n",
       "    <tr>\n",
       "      <th>0</th>\n",
       "      <td>FBgn0031208</td>\n",
       "      <td>0.817405</td>\n",
       "    </tr>\n",
       "    <tr>\n",
       "      <th>1</th>\n",
       "      <td>FBgn0002121</td>\n",
       "      <td>28.118300</td>\n",
       "    </tr>\n",
       "    <tr>\n",
       "      <th>2</th>\n",
       "      <td>FBgn0031209</td>\n",
       "      <td>0.000000</td>\n",
       "    </tr>\n",
       "    <tr>\n",
       "      <th>3</th>\n",
       "      <td>FBgn0051973</td>\n",
       "      <td>0.045719</td>\n",
       "    </tr>\n",
       "    <tr>\n",
       "      <th>4</th>\n",
       "      <td>FBgn0067779</td>\n",
       "      <td>9.861980</td>\n",
       "    </tr>\n",
       "  </tbody>\n",
       "</table>\n",
       "</div>"
      ],
      "text/plain": [
       "       Gene_ID   BG3_FPKM\n",
       "0  FBgn0031208   0.817405\n",
       "1  FBgn0002121  28.118300\n",
       "2  FBgn0031209   0.000000\n",
       "3  FBgn0051973   0.045719\n",
       "4  FBgn0067779   9.861980"
      ]
     },
     "execution_count": 11,
     "metadata": {},
     "output_type": "execute_result"
    }
   ],
   "source": [
    "genes = pd.read_csv('BG3_genes.txt', sep='\\t')\n",
    "genes['BG3_FPKM'] = genes['BG3_FPKM'].str.replace(',','.').astype(float)\n",
    "genes.head()"
   ]
  },
  {
   "cell_type": "code",
   "execution_count": 12,
   "metadata": {},
   "outputs": [
    {
     "data": {
      "text/html": [
       "<div>\n",
       "<style scoped>\n",
       "    .dataframe tbody tr th:only-of-type {\n",
       "        vertical-align: middle;\n",
       "    }\n",
       "\n",
       "    .dataframe tbody tr th {\n",
       "        vertical-align: top;\n",
       "    }\n",
       "\n",
       "    .dataframe thead th {\n",
       "        text-align: right;\n",
       "    }\n",
       "</style>\n",
       "<table border=\"1\" class=\"dataframe\">\n",
       "  <thead>\n",
       "    <tr style=\"text-align: right;\">\n",
       "      <th></th>\n",
       "      <th>Gene_ID</th>\n",
       "      <th>BG3_FPKM</th>\n",
       "    </tr>\n",
       "  </thead>\n",
       "  <tbody>\n",
       "    <tr>\n",
       "      <th>6259</th>\n",
       "      <td>FBgn0035271</td>\n",
       "      <td>225.647</td>\n",
       "    </tr>\n",
       "    <tr>\n",
       "      <th>14916</th>\n",
       "      <td>FBgn0031066</td>\n",
       "      <td>225.924</td>\n",
       "    </tr>\n",
       "    <tr>\n",
       "      <th>11368</th>\n",
       "      <td>FBgn0016119</td>\n",
       "      <td>226.114</td>\n",
       "    </tr>\n",
       "    <tr>\n",
       "      <th>11402</th>\n",
       "      <td>FBgn0040227</td>\n",
       "      <td>226.796</td>\n",
       "    </tr>\n",
       "    <tr>\n",
       "      <th>3824</th>\n",
       "      <td>FBgn0000253</td>\n",
       "      <td>227.485</td>\n",
       "    </tr>\n",
       "  </tbody>\n",
       "</table>\n",
       "</div>"
      ],
      "text/plain": [
       "           Gene_ID  BG3_FPKM\n",
       "6259   FBgn0035271   225.647\n",
       "14916  FBgn0031066   225.924\n",
       "11368  FBgn0016119   226.114\n",
       "11402  FBgn0040227   226.796\n",
       "3824   FBgn0000253   227.485"
      ]
     },
     "execution_count": 12,
     "metadata": {},
     "output_type": "execute_result"
    }
   ],
   "source": [
    "max_exp_genes = genes.sort_values(by='BG3_FPKM')[-401:]\n",
    "max_exp_genes.head()"
   ]
  },
  {
   "cell_type": "code",
   "execution_count": 13,
   "metadata": {},
   "outputs": [
    {
     "data": {
      "text/html": [
       "<div>\n",
       "<style scoped>\n",
       "    .dataframe tbody tr th:only-of-type {\n",
       "        vertical-align: middle;\n",
       "    }\n",
       "\n",
       "    .dataframe tbody tr th {\n",
       "        vertical-align: top;\n",
       "    }\n",
       "\n",
       "    .dataframe thead th {\n",
       "        text-align: right;\n",
       "    }\n",
       "</style>\n",
       "<table border=\"1\" class=\"dataframe\">\n",
       "  <thead>\n",
       "    <tr style=\"text-align: right;\">\n",
       "      <th></th>\n",
       "      <th>Gene stable ID</th>\n",
       "      <th>Gene start (bp)</th>\n",
       "      <th>Gene end (bp)</th>\n",
       "      <th>Strand</th>\n",
       "    </tr>\n",
       "  </thead>\n",
       "  <tbody>\n",
       "    <tr>\n",
       "      <th>17</th>\n",
       "      <td>FBgn0031228</td>\n",
       "      <td>114726</td>\n",
       "      <td>156030</td>\n",
       "      <td>1</td>\n",
       "    </tr>\n",
       "    <tr>\n",
       "      <th>80</th>\n",
       "      <td>FBgn0002593</td>\n",
       "      <td>419952</td>\n",
       "      <td>420864</td>\n",
       "      <td>1</td>\n",
       "    </tr>\n",
       "    <tr>\n",
       "      <th>101</th>\n",
       "      <td>FBgn0031263</td>\n",
       "      <td>559612</td>\n",
       "      <td>560523</td>\n",
       "      <td>1</td>\n",
       "    </tr>\n",
       "    <tr>\n",
       "      <th>256</th>\n",
       "      <td>FBgn0000579</td>\n",
       "      <td>1724768</td>\n",
       "      <td>1729636</td>\n",
       "      <td>-1</td>\n",
       "    </tr>\n",
       "    <tr>\n",
       "      <th>291</th>\n",
       "      <td>FBgn0001125</td>\n",
       "      <td>1984512</td>\n",
       "      <td>1987758</td>\n",
       "      <td>-1</td>\n",
       "    </tr>\n",
       "  </tbody>\n",
       "</table>\n",
       "</div>"
      ],
      "text/plain": [
       "    Gene stable ID  Gene start (bp)  Gene end (bp)  Strand\n",
       "17     FBgn0031228           114726         156030       1\n",
       "80     FBgn0002593           419952         420864       1\n",
       "101    FBgn0031263           559612         560523       1\n",
       "256    FBgn0000579          1724768        1729636      -1\n",
       "291    FBgn0001125          1984512        1987758      -1"
      ]
     },
     "execution_count": 13,
     "metadata": {},
     "output_type": "execute_result"
    }
   ],
   "source": [
    "max_exp_coords = drosophila.loc[drosophila['Gene stable ID'].isin(max_exp_genes['Gene_ID'])]\n",
    "max_exp_coords.head()"
   ]
  },
  {
   "cell_type": "code",
   "execution_count": 14,
   "metadata": {},
   "outputs": [
    {
     "name": "stdout",
     "output_type": "stream",
     "text": [
      "found: 340\n"
     ]
    }
   ],
   "source": [
    "print('found:', len(max_exp_coords))"
   ]
  },
  {
   "cell_type": "code",
   "execution_count": 15,
   "metadata": {},
   "outputs": [
    {
     "name": "stdout",
     "output_type": "stream",
     "text": [
      "in boundaries: 19\n",
      "in TADs: 56\n"
     ]
    }
   ],
   "source": [
    "gene_start = max_exp_coords['Gene start (bp)'].tolist()\n",
    "gene_end = max_exp_coords['Gene end (bp)'].tolist()\n",
    "\n",
    "i = 0 # итератор генов\n",
    "b = 0 # попадает на границу\n",
    "x = 0 # подает внутрь ТАДа\n",
    "for n in range(len(TADs_boundaries)):\n",
    "    while gene_end[i] < TADs_boundaries[1][n]:\n",
    "        i += 1\n",
    "    if TADs_boundaries[1][n] < gene_start[i] < TADs_boundaries[2][n] or \\\n",
    "    TADs_boundaries[1][n] < gene_end[i] < TADs_boundaries[2][n]:\n",
    "        while TADs_boundaries[1][n] < gene_start[i] < TADs_boundaries[2][n] or \\\n",
    "        TADs_boundaries[1][n] < gene_end[i] < TADs_boundaries[2][n]:\n",
    "            b += 1\n",
    "            i += 1\n",
    "    elif TADs_boundaries[2][n] < gene_start[i] < TADs_boundaries[1][n+1] or \\\n",
    "    TADs_boundaries[2][n] < gene_end[i] < TADs_boundaries[1][n+1]:\n",
    "        if n < len(TADs_boundaries):\n",
    "            while TADs_boundaries[2][n] < gene_start[i] < TADs_boundaries[1][n+1] or \\\n",
    "            TADs_boundaries[2][n] < gene_end[i] < TADs_boundaries[1][n+1]:\n",
    "                x += 1\n",
    "                i += 1\n",
    "    elif TADs_boundaries[2][n] < gene_start[i]:\n",
    "        while n < len(TADs_boundaries):\n",
    "            if TADs_boundaries[2][n] > gene_start[i]:\n",
    "                break\n",
    "            n += 1\n",
    "            continue\n",
    "        if n == len(TADs_boundaries):     \n",
    "            break\n",
    "\n",
    "print('in boundaries:', b)\n",
    "print('in TADs:', x)"
   ]
  },
  {
   "cell_type": "markdown",
   "metadata": {},
   "source": [
    "Наблюдаем картину обратную набору всех генов: в ТАДах экспрессирущихся генов больше."
   ]
  }
 ],
 "metadata": {
  "kernelspec": {
   "display_name": "Python 3",
   "language": "python",
   "name": "python3"
  },
  "language_info": {
   "codemirror_mode": {
    "name": "ipython",
    "version": 3
   },
   "file_extension": ".py",
   "mimetype": "text/x-python",
   "name": "python",
   "nbconvert_exporter": "python",
   "pygments_lexer": "ipython3",
   "version": "3.8.0"
  }
 },
 "nbformat": 4,
 "nbformat_minor": 4
}
