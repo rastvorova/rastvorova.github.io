{
 "cells": [
  {
   "cell_type": "code",
   "execution_count": null,
   "metadata": {},
   "outputs": [],
   "source": [
    "import h5py\n",
    "import pandas as pd\n",
    "import numpy as np"
   ]
  },
  {
   "cell_type": "code",
   "execution_count": null,
   "metadata": {},
   "outputs": [],
   "source": [
    "path = '/home/domain/anur/tmp/terra/xyz/'"
   ]
  },
  {
   "cell_type": "code",
   "execution_count": null,
   "metadata": {},
   "outputs": [],
   "source": [
    "data = pd.read_csv('/home/domain/anur/tmp/terra/energies.dat', sep=' ', header=None)\n",
    "data = data.drop([1, 2, 4], axis=1)\n",
    "data.columns = ['id', 'energy']"
   ]
  },
  {
   "cell_type": "code",
   "execution_count": null,
   "metadata": {},
   "outputs": [],
   "source": [
    "num = -1\n",
    "coord_cols = ['x', 'y', 'z']\n",
    "coordinates = []\n",
    "species = []\n",
    "energies = []\n",
    "for i in data['id']:\n",
    "    num += 1\n",
    "    coord_one = []\n",
    "    xyz = pd.read_table(path + i, skiprows=2, delim_whitespace=True, names=['atom', 'x', 'y', 'z'])\n",
    "    for row in range(len(xyz[coord_cols])):\n",
    "        coord_one.append(list(xyz.loc[row, coord_cols]))\n",
    "    coordinates.append(coord_one)\n",
    "    energies.append(data.loc[num, 'energy'])\n",
    "species = list(xyz['atom'])"
   ]
  },
  {
   "cell_type": "code",
   "execution_count": null,
   "metadata": {},
   "outputs": [],
   "source": [
    "h = h5py.File('paraoxon_data.h5','w')\n",
    "phosphogroup = h.create_group('phosphates')\n",
    "mol = phosphogroup.create_group('paraoxon')\n",
    "coord_set = mol.create_dataset('coordinates', data=coordinates)\n",
    "atoms_set = mol.create_dataset('species', data=np.string_(species, encoding='utf8'))\n",
    "energy_set = mol.create_dataset('energies', data=energies)\n",
    "h.close()"
   ]
  }
 ],
 "metadata": {
  "kernelspec": {
   "display_name": "Python (test_env)",
   "language": "python",
   "name": "test_env"
  },
  "language_info": {
   "codemirror_mode": {
    "name": "ipython",
    "version": 3
   },
   "file_extension": ".py",
   "mimetype": "text/x-python",
   "name": "python",
   "nbconvert_exporter": "python",
   "pygments_lexer": "ipython3",
   "version": "3.6.9"
  }
 },
 "nbformat": 4,
 "nbformat_minor": 4
}
